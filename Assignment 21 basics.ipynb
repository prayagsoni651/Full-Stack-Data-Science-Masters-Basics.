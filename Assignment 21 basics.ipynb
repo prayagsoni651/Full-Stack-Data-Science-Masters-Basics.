{
 "cells": [
  {
   "cell_type": "code",
   "execution_count": 1,
   "id": "66473231",
   "metadata": {},
   "outputs": [
    {
     "name": "stdout",
     "output_type": "stream",
     "text": [
      "Current date has been added to today.txt.\n"
     ]
    }
   ],
   "source": [
    "'''\n",
    "1. Add the current date to the text file today.txt as a string.\n",
    "\n",
    "'''\n",
    "\n",
    "from datetime import date\n",
    "\n",
    "# Get the current date as a string\n",
    "current_date = date.today().isoformat()\n",
    "\n",
    "# Write the current date to the file today.txt\n",
    "with open('today.txt', 'w') as file:\n",
    "    file.write(current_date)\n",
    "\n",
    "print(\"Current date has been added to today.txt.\")\n"
   ]
  },
  {
   "cell_type": "code",
   "execution_count": 2,
   "id": "24525bba",
   "metadata": {},
   "outputs": [
    {
     "name": "stdout",
     "output_type": "stream",
     "text": [
      "Contents of today.txt have been read into today_string.\n"
     ]
    }
   ],
   "source": [
    "'''\n",
    "2. Read the text file today.txt into the string today_string\n",
    "'''\n",
    "\n",
    "# Read the contents of the file today.txt into the string today_string\n",
    "with open('today.txt', 'r') as file:\n",
    "    today_string = file.read()\n",
    "\n",
    "print(\"Contents of today.txt have been read into today_string.\")\n"
   ]
  },
  {
   "cell_type": "code",
   "execution_count": 3,
   "id": "44d2dfe2",
   "metadata": {},
   "outputs": [
    {
     "name": "stdout",
     "output_type": "stream",
     "text": [
      "Date parsed from today_string: 2024-05-23 00:00:00\n"
     ]
    }
   ],
   "source": [
    "'''\n",
    "3. Parse the date from today_string.\n",
    "\n",
    "'''\n",
    "\n",
    "from datetime import datetime\n",
    "\n",
    "# Parse the date from today_string\n",
    "parsed_date = datetime.strptime(today_string.strip(), '%Y-%m-%d')\n",
    "\n",
    "print(\"Date parsed from today_string:\", parsed_date)\n"
   ]
  },
  {
   "cell_type": "code",
   "execution_count": 4,
   "id": "1e365c4d",
   "metadata": {},
   "outputs": [
    {
     "name": "stdout",
     "output_type": "stream",
     "text": [
      "Files in the current directory:\n",
      "-1.14-windows.xml\n",
      ".anaconda\n",
      ".astropy\n",
      ".conda\n",
      ".condarc\n",
      ".continuum\n",
      ".cufflinks\n",
      ".idlerc\n",
      ".ipynb_checkpoints\n",
      ".ipython\n",
      ".jupyter\n",
      ".matplotlib\n",
      ".node_repl_history\n",
      ".vscode\n",
      ".vscode-R\n",
      "advertising.csv\n",
      "anaconda3\n",
      "AppData\n",
      "Application Data\n",
      "Assignment - 16 basics python.ipynb\n",
      "Assignment - 17 basics Pyhton.ipynb\n",
      "Assignment - 18 Basics Python.ipynb\n",
      "Assignment -15 Basic Python.ipynb\n",
      "Assignment 19 Basics.ipynb\n",
      "Assignment 20 Basics .ipynb\n",
      "Assignment 21 basics.ipynb\n",
      "books.csv\n",
      "books.db\n",
      "connnection.ipynb\n",
      "Contacts\n",
      "Cookies\n",
      "Datat Science Assignment .ipynb\n",
      "Documents\n",
      "Downloads\n",
      "edewf.ipynb\n",
      "Exam Paper Python.ipynb\n",
      "fake-news-prediction.ipynb\n",
      "Favorites\n",
      "finally___project.ipynb\n",
      "Links\n",
      "Local Settings\n",
      "Microsoft\n",
      "MONGO DB.ipynb\n",
      "Music\n",
      "My Documents\n",
      "NetHood\n",
      "NTUSER.DAT\n",
      "ntuser.dat.LOG1\n",
      "ntuser.dat.LOG2\n",
      "NTUSER.DAT{2ebe423d-b99e-11ee-bd40-d5bcd8b79b23}.TM.blf\n",
      "NTUSER.DAT{2ebe423d-b99e-11ee-bd40-d5bcd8b79b23}.TMContainer00000000000000000001.regtrans-ms\n",
      "NTUSER.DAT{2ebe423d-b99e-11ee-bd40-d5bcd8b79b23}.TMContainer00000000000000000002.regtrans-ms\n",
      "ntuser.ini\n",
      "OneDrive\n",
      "pandas data manipulation.ipynb\n",
      "Pictures\n",
      "pl.ipynb\n",
      "plotly.ipynb\n",
      "PrintHood\n",
      "PycharmProjects\n",
      "README.md\n",
      "Recent\n",
      "requirements.txt\n",
      "Saved Games\n",
      "Searches\n",
      "SendTo\n",
      "Start Menu\n",
      "Templates\n",
      "test.txt\n",
      "titanic_train.csv\n",
      "today.txt\n",
      "train dataset.ipynb\n",
      "train_data.csv\n",
      "Train__Data___Manipulation____Dataset____Project.ipynb\n",
      "untitled\n",
      "Untitled.ipynb\n",
      "Untitled1.ipynb\n",
      "Untitled2.ipynb\n",
      "Untitled3.ipynb\n",
      "Untitled4.ipynb\n",
      "Untitled5.ipynb\n",
      "Untitled6.ipynb\n",
      "Videos\n",
      "wine-quality-prediction.py\n",
      "winequality-red.csv\n"
     ]
    }
   ],
   "source": [
    "'''\n",
    "4. List the files in your current directory\n",
    "\n",
    "'''\n",
    "\n",
    "import os\n",
    "\n",
    "# Get the list of files in the current directory\n",
    "files_in_directory = os.listdir('.')\n",
    "\n",
    "# Print the list of files\n",
    "print(\"Files in the current directory:\")\n",
    "for file in files_in_directory:\n",
    "    print(file)\n"
   ]
  },
  {
   "cell_type": "code",
   "execution_count": 5,
   "id": "db81b08a",
   "metadata": {},
   "outputs": [
    {
     "name": "stdout",
     "output_type": "stream",
     "text": [
      "Files in the parent directory:\n",
      "All Users\n",
      "Default\n",
      "Default User\n",
      "defaultuser100000\n",
      "desktop.ini\n",
      "praya\n",
      "Public\n"
     ]
    }
   ],
   "source": [
    "'''\n",
    "5. Create a list of all of the files in your parent directory (minimum five files should be available).\n",
    "\n",
    "'''\n",
    "\n",
    "import os\n",
    "\n",
    "# Get the absolute path of the parent directory\n",
    "parent_directory = os.path.abspath(os.path.join(os.getcwd(), os.pardir))\n",
    "\n",
    "# Get the list of files in the parent directory\n",
    "files_in_parent_directory = os.listdir(parent_directory)\n",
    "\n",
    "# Print the list of files\n",
    "print(\"Files in the parent directory:\")\n",
    "for file in files_in_parent_directory:\n",
    "    print(file)\n"
   ]
  },
  {
   "cell_type": "code",
   "execution_count": 6,
   "id": "316c098e",
   "metadata": {},
   "outputs": [],
   "source": [
    "'''\n",
    "6. Use multiprocessing to create three separate processes. Make each one wait a random number of\n",
    "seconds between one and five, print the current time, and then exit.\n",
    "'''\n",
    "import multiprocessing\n",
    "import time\n",
    "import random\n",
    "from datetime import datetime\n",
    "\n",
    "def worker():\n",
    "    # Generate a random number of seconds between 1 and 5\n",
    "    wait_time = random.randint(1, 5)\n",
    "    \n",
    "    # Wait for the random number of seconds\n",
    "    time.sleep(wait_time)\n",
    "    \n",
    "    # Print the current time\n",
    "    current_time = datetime.now().strftime(\"%Y-%m-%d %H:%M:%S\")\n",
    "    print(f\"Process {multiprocessing.current_process().name}: Current time - {current_time}\")\n",
    "\n",
    "if __name__ == \"__main__\":\n",
    "    # Create three separate processes\n",
    "    processes = []\n",
    "    for i in range(3):\n",
    "        process = multiprocessing.Process(target=worker, name=f\"Process-{i+1}\")\n",
    "        processes.append(process)\n",
    "        process.start()\n",
    "\n",
    "    # Wait for all processes to finish\n",
    "    for process in processes:\n",
    "        process.join()\n"
   ]
  },
  {
   "cell_type": "code",
   "execution_count": 7,
   "id": "ce99b3d4",
   "metadata": {},
   "outputs": [
    {
     "name": "stdout",
     "output_type": "stream",
     "text": [
      "Date of birth: 2000-01-01\n"
     ]
    }
   ],
   "source": [
    "'''\n",
    "7. Create a date object of your day of birth.\n",
    "\n",
    "'''\n",
    "\n",
    "from datetime import date\n",
    "\n",
    "# Replace the year, month, and day values with your actual date of birth\n",
    "birth_date = date(2000, 1, 1)  # Example: January 1, 2000\n",
    "\n",
    "print(\"Date of birth:\", birth_date)\n"
   ]
  },
  {
   "cell_type": "code",
   "execution_count": 8,
   "id": "e4e1ecd2",
   "metadata": {},
   "outputs": [
    {
     "name": "stdout",
     "output_type": "stream",
     "text": [
      "Day of the week of your birth: Saturday\n"
     ]
    }
   ],
   "source": [
    "'''\n",
    "8. What day of the week was your day of birth?\n",
    "'''\n",
    "\n",
    "from datetime import date\n",
    "\n",
    "# Replace the year, month, and day values with your actual date of birth\n",
    "birth_date = date(2000, 1, 1)  # Example: January 1, 2000\n",
    "\n",
    "# Use the weekday() method to get the day of the week (0 = Monday, 1 = Tuesday, ..., 6 = Sunday)\n",
    "day_of_week = birth_date.weekday()\n",
    "\n",
    "# Define a list of days of the week\n",
    "days_of_week = [\"Monday\", \"Tuesday\", \"Wednesday\", \"Thursday\", \"Friday\", \"Saturday\", \"Sunday\"]\n",
    "\n",
    "# Print the day of the week of your birth\n",
    "print(\"Day of the week of your birth:\", days_of_week[day_of_week])\n"
   ]
  },
  {
   "cell_type": "code",
   "execution_count": 9,
   "id": "79846cc7",
   "metadata": {},
   "outputs": [
    {
     "name": "stdout",
     "output_type": "stream",
     "text": [
      "Date when you will be (or were) 10,000 days old: 2027-05-19\n"
     ]
    }
   ],
   "source": [
    "'''\n",
    "9. When will you be (or when were you) 10,000 days old?\n",
    "\n",
    "'''\n",
    "\n",
    "from datetime import date, timedelta\n",
    "\n",
    "# Replace the year, month, and day values with your actual date of birth\n",
    "birth_date = date(2000, 1, 1)  # Example: January 1, 2000\n",
    "\n",
    "# Define the number of days\n",
    "days_to_add = 10000\n",
    "\n",
    "# Calculate the date when you will be (or were) 10,000 days old\n",
    "target_date = birth_date + timedelta(days=days_to_add)\n",
    "\n",
    "print(\"Date when you will be (or were) 10,000 days old:\", target_date)\n"
   ]
  },
  {
   "cell_type": "code",
   "execution_count": null,
   "id": "0de1f9dc",
   "metadata": {},
   "outputs": [],
   "source": []
  }
 ],
 "metadata": {
  "kernelspec": {
   "display_name": "Python 3 (ipykernel)",
   "language": "python",
   "name": "python3"
  },
  "language_info": {
   "codemirror_mode": {
    "name": "ipython",
    "version": 3
   },
   "file_extension": ".py",
   "mimetype": "text/x-python",
   "name": "python",
   "nbconvert_exporter": "python",
   "pygments_lexer": "ipython3",
   "version": "3.11.5"
  }
 },
 "nbformat": 4,
 "nbformat_minor": 5
}
